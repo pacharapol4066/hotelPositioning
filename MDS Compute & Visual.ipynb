{
 "cells": [
  {
   "cell_type": "code",
   "execution_count": null,
   "id": "8a538186",
   "metadata": {},
   "outputs": [],
   "source": []
  },
  {
   "cell_type": "code",
   "execution_count": null,
   "id": "d6132eeb",
   "metadata": {},
   "outputs": [],
   "source": [
    "def jaccard_precompute(df_b, df_attr , i, j, k):\n",
    "    brand1 = pd.DataFrame(df_b.iloc[:,i])\n",
    "    brand2 = pd.DataFrame(df_b.iloc[:,j])\n",
    "    attr = pd.DataFrame(df_attr.iloc[:,k])\n",
    "    slice_df = pd.concat([brand1, attr, brand2], axis=1, join=\"inner\")\n",
    "    a_in_b = slice_df[(slice_df.iloc[:,0]>0)&(slice_df.iloc[:,1]>0)&(slice_df.iloc[:,2]>0)]\n",
    "    a_occur = slice_df[(slice_df.iloc[:,0]>0)&(slice_df.iloc[:,1]>0)]\n",
    "    b_occur = slice_df[(slice_df.iloc[:,2]>0)&(slice_df.iloc[:,1]>0)]\n",
    "    jacc_index = a_in_b.shape[0]/(a_occur.shape[0]+b_occur.shape[0]-a_in_b.shape[0])\n",
    "    return jacc_index"
   ]
  },
  {
   "cell_type": "code",
   "execution_count": null,
   "id": "ae4675a0",
   "metadata": {},
   "outputs": [],
   "source": [
    "def create_MDS_perceptual_map(df, attrName, dissim):\n",
    "    embedding = MDS(n_components=2, dissimilarity=dissim)\n",
    "    mds_coord = embedding.fit_transform(df)\n",
    "    fig, ax=plt.subplots(figsize=(10,5))\n",
    "    ax.set_title(f'MDS Perceptual map: {attrName}', fontsize=20)\n",
    "    plt.scatter(mds_coord[:,0],mds_coord[:,1])\n",
    "    labels=df.index\n",
    "    for label,x,y in zip(labels, mds_coord[:,0], mds_coord[:,1]):\n",
    "        plt.annotate(label,(x,y), fontsize=13)\n",
    "    plt.axhline(y=0, color='k', linestyle='-', linewidth=1)\n",
    "    plt.axvline(x=0, color='k', linestyle='-', linewidth=1)\n",
    "    plt.xlabel('PC1', fontsize=16)\n",
    "    plt.ylabel('PC2', fontsize=16)\n",
    "    plt.grid(True)\n",
    "    plt.show()\n",
    "    return mds_coord.shape, embedding"
   ]
  },
  {
   "cell_type": "code",
   "execution_count": null,
   "id": "f37cc04c",
   "metadata": {},
   "outputs": [],
   "source": [
    "# Co-occurrence dissimilarity (distance = 1-index) ใช้กับ MDS (อย่าใช้ similarity)\n",
    "def gen_precomputed_matrix(df_b, df_attr):\n",
    "    precomputed_matrix = pd.DataFrame(index=df_b.columns,columns=df_b.columns).fillna(0)\n",
    "    \n",
    "    jacc = pd.DataFrame(columns=df_attr.columns)\n",
    "    jacc = jacc.append(pd.Series([],dtype='float64'), ignore_index=True).fillna(0.0)\n",
    "    \n",
    "    for i in range(0,len(precomputed_matrix.columns)):\n",
    "        for j in range(0,len(precomputed_matrix.columns)):\n",
    "            for k in range(0,len(df_attr.columns)): # 0 to 329\n",
    "                try:\n",
    "                    jacc.iloc[0,k] = 1-jaccard_precompute(df_b, df_attr,i, j, k)\n",
    "                except Exception:\n",
    "                    jacc.iloc[0,k] = None\n",
    "                    continue\n",
    "            precomputed_matrix.iloc[i,j] = jacc.mean(axis=1)[0]\n",
    "            jacc = jacc.iloc[0:0].append(pd.Series([],dtype='float64'), ignore_index=True).fillna(0.0)\n",
    "    return precomputed_matrix"
   ]
  },
  {
   "cell_type": "code",
   "execution_count": null,
   "id": "1ae7a762",
   "metadata": {},
   "outputs": [],
   "source": []
  }
 ],
 "metadata": {
  "kernelspec": {
   "display_name": "Python 3",
   "language": "python",
   "name": "python3"
  },
  "language_info": {
   "codemirror_mode": {
    "name": "ipython",
    "version": 3
   },
   "file_extension": ".py",
   "mimetype": "text/x-python",
   "name": "python",
   "nbconvert_exporter": "python",
   "pygments_lexer": "ipython3",
   "version": "3.8.8"
  }
 },
 "nbformat": 4,
 "nbformat_minor": 5
}
